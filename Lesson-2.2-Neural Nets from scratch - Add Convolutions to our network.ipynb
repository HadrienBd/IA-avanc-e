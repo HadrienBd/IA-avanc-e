{
  "nbformat": 4,
  "nbformat_minor": 0,
  "metadata": {
    "kernelspec": {
      "display_name": "Python 3",
      "language": "python",
      "name": "python3"
    },
    "language_info": {
      "codemirror_mode": {
        "name": "ipython",
        "version": 3
      },
      "file_extension": ".py",
      "mimetype": "text/x-python",
      "name": "python",
      "nbconvert_exporter": "python",
      "pygments_lexer": "ipython3",
      "version": "3.7.4"
    },
    "colab": {
      "name": "Lesson 2.2 Neural Nets from scratch - Add Convolutions to our network.ipynb",
      "provenance": []
    }
  },
  "cells": [
    {
      "cell_type": "markdown",
      "metadata": {
        "id": "OHmUeS9356UL"
      },
      "source": [
        "# Implement convolutions in a whole net"
      ]
    },
    {
      "cell_type": "code",
      "metadata": {
        "colab": {
          "base_uri": "https://localhost:8080/"
        },
        "id": "IPiIPFJwbMf6",
        "outputId": "50980079-9cb0-4839-8c33-92efc9cc5d69"
      },
      "source": [
        "pip install flake8 pycodestyle_magic"
      ],
      "execution_count": 1,
      "outputs": [
        {
          "output_type": "stream",
          "name": "stdout",
          "text": [
            "Requirement already satisfied: flake8 in /usr/local/lib/python3.7/dist-packages (3.9.2)\n",
            "Requirement already satisfied: pycodestyle_magic in /usr/local/lib/python3.7/dist-packages (0.5)\n",
            "Requirement already satisfied: mccabe<0.7.0,>=0.6.0 in /usr/local/lib/python3.7/dist-packages (from flake8) (0.6.1)\n",
            "Requirement already satisfied: pyflakes<2.4.0,>=2.3.0 in /usr/local/lib/python3.7/dist-packages (from flake8) (2.3.1)\n",
            "Requirement already satisfied: pycodestyle<2.8.0,>=2.7.0 in /usr/local/lib/python3.7/dist-packages (from flake8) (2.7.0)\n",
            "Requirement already satisfied: importlib-metadata in /usr/local/lib/python3.7/dist-packages (from flake8) (4.8.1)\n",
            "Requirement already satisfied: typing-extensions>=3.6.4 in /usr/local/lib/python3.7/dist-packages (from importlib-metadata->flake8) (3.7.4.3)\n",
            "Requirement already satisfied: zipp>=0.5 in /usr/local/lib/python3.7/dist-packages (from importlib-metadata->flake8) (3.5.0)\n"
          ]
        }
      ]
    },
    {
      "cell_type": "code",
      "metadata": {
        "id": "SF6ih0YQ56UO"
      },
      "source": [
        "%load_ext pycodestyle_magic\n",
        "%flake8_on"
      ],
      "execution_count": 1,
      "outputs": []
    },
    {
      "cell_type": "code",
      "metadata": {
        "id": "WIGHV0cK56UP"
      },
      "source": [
        "import numpy as np\n",
        "import pandas as pd\n",
        "import torch\n",
        "from torch import nn\n",
        "from torchvision.datasets import MNIST\n",
        "import torch.nn.functional as F"
      ],
      "execution_count": 2,
      "outputs": []
    },
    {
      "cell_type": "markdown",
      "metadata": {
        "id": "lAtn4bIV56UQ"
      },
      "source": [
        "# Get Data"
      ]
    },
    {
      "cell_type": "code",
      "metadata": {
        "id": "FGXb2c3G56UQ",
        "colab": {
          "base_uri": "https://localhost:8080/"
        },
        "outputId": "530386f1-0522-4892-c438-6ddbe29f85e4"
      },
      "source": [
        "# Get the data using pytorch MNIST function\n",
        "trainset = MNIST('../../', download=True, train=True)\n",
        "testset = MNIST('../../', download=True, train=False)\n",
        "\n",
        "# Store the labels\n",
        "y_trainset = trainset.targets\n",
        "y_testset = testset.targets\n",
        "\n",
        "# reshape and pass to float32\n",
        "train = trainset.data.reshape(60000, -1)\n",
        "test = testset.data.reshape(10000, -1)\n",
        "trainset = train.to(torch.float32)\n",
        "testset = test.to(torch.float32)\n",
        "\n",
        "# Normalize\n",
        "m, std = trainset.mean(), trainset.std()\n",
        "trainset = (trainset - m) / std\n",
        "testset = (testset - m) / std\n",
        "\n",
        "print(trainset.mean(), trainset.std())"
      ],
      "execution_count": 3,
      "outputs": [
        {
          "output_type": "stream",
          "name": "stderr",
          "text": [
            "/usr/local/lib/python3.7/dist-packages/torchvision/datasets/mnist.py:498: UserWarning: The given NumPy array is not writeable, and PyTorch does not support non-writeable tensors. This means you can write to the underlying (supposedly non-writeable) NumPy array using the tensor. You may want to copy the array to protect its data or make it writeable before converting it to a tensor. This type of warning will be suppressed for the rest of this program. (Triggered internally at  /pytorch/torch/csrc/utils/tensor_numpy.cpp:180.)\n",
            "  return torch.from_numpy(parsed.astype(m[2], copy=False)).view(*s)\n"
          ]
        },
        {
          "output_type": "stream",
          "name": "stdout",
          "text": [
            "tensor(1.8892e-08) tensor(1.)\n"
          ]
        }
      ]
    },
    {
      "cell_type": "markdown",
      "metadata": {
        "id": "OW6AJBp456UR"
      },
      "source": [
        "# Define useful classes"
      ]
    },
    {
      "cell_type": "code",
      "metadata": {
        "id": "tGJh8B8s56UR"
      },
      "source": [
        "class Dataset():\n",
        "    # A convenience class to have all your data stored at the same place\n",
        "    # common practice\n",
        "    def __init__(self, x, y): self.x, self.y = x, y\n",
        "    def __len__(self): return len(self.x)\n",
        "    def __getitem__(self, i): return self.x[i], self.y[i] "
      ],
      "execution_count": 4,
      "outputs": []
    },
    {
      "cell_type": "code",
      "metadata": {
        "id": "00UZXKjw56US"
      },
      "source": [
        "class DataLoader():\n",
        "    # helps us do minibatch training\n",
        "    def __init__(self, data, bs):\n",
        "        self.data, self.bs = data, bs\n",
        "\n",
        "    def __iter__(self):\n",
        "        for i in range(0, len(self.data), self.bs):\n",
        "            yield self.data[i:i+self.bs]"
      ],
      "execution_count": 5,
      "outputs": []
    },
    {
      "cell_type": "code",
      "metadata": {
        "id": "9cjTjser56US"
      },
      "source": [
        "class Optimizer():\n",
        "    # is used to get rid of code inside the training loop\n",
        "    def __init__(self, parameters, lr=0.4):\n",
        "        self.parameters, self.lr = list(parameters), lr\n",
        "\n",
        "    def step(self):\n",
        "        with torch.no_grad():\n",
        "            for p in self.parameters:\n",
        "                p -= p.grad * self.lr\n",
        "\n",
        "    def zero_grad(self):\n",
        "        for p in self.parameters:\n",
        "            p.grad.zero_()"
      ],
      "execution_count": 6,
      "outputs": []
    },
    {
      "cell_type": "code",
      "metadata": {
        "id": "lLH-ZSfS56UT"
      },
      "source": [
        "def accuracy(output, target):\n",
        "    return (torch.argmax(output, dim=1) == target).float().mean()"
      ],
      "execution_count": 7,
      "outputs": []
    },
    {
      "cell_type": "code",
      "metadata": {
        "id": "U9MJ7CI056UT",
        "colab": {
          "base_uri": "https://localhost:8080/"
        },
        "outputId": "1dc505ed-4fca-4326-ecf1-f15ba02cb9bc"
      },
      "source": [
        "# explain accuracy\n",
        "my_output = torch.randn(64, 10)\n",
        "# my_output\n",
        "torch.argmax(my_output)  # only one number\n",
        "torch.argmax(my_output, dim=1)  # 64 numbers (one pred for each image)"
      ],
      "execution_count": 8,
      "outputs": [
        {
          "output_type": "execute_result",
          "data": {
            "text/plain": [
              "tensor([4, 6, 1, 1, 6, 2, 5, 2, 9, 2, 1, 0, 5, 6, 5, 9, 1, 8, 9, 3, 5, 9, 3, 3,\n",
              "        0, 2, 6, 8, 3, 9, 0, 9, 2, 4, 8, 2, 0, 1, 9, 4, 9, 4, 1, 0, 8, 8, 1, 9,\n",
              "        5, 8, 0, 5, 2, 4, 6, 2, 5, 4, 8, 7, 4, 6, 2, 3])"
            ]
          },
          "metadata": {},
          "execution_count": 8
        }
      ]
    },
    {
      "cell_type": "code",
      "metadata": {
        "id": "hcFnYEpm56UU"
      },
      "source": [
        "EPOCHS = 5\n",
        "lr = 0.3\n",
        "bs = 64\n",
        "loss_func = F.cross_entropy\n",
        "\n",
        "# here we will later download and assign pre-trained models\n",
        "learner = nn.Sequential(\n",
        "    nn.Linear(784, 250),\n",
        "    nn.ReLU(),\n",
        "    nn.Linear(250, 100),\n",
        "    nn.ReLU(),\n",
        "    nn.Linear(100, 10)\n",
        ")\n",
        "\n",
        "# Your nn.Sequential has a .parameters() attribute !\n",
        "# so the Optimizer find alone all the tensors that require gradients ! \n",
        "opt = Optimizer(learner.parameters(), lr=lr)\n",
        "\n",
        "my_data = Dataset(trainset, y_trainset)\n",
        "train_dataloader = DataLoader(my_data, bs)"
      ],
      "execution_count": 9,
      "outputs": []
    },
    {
      "cell_type": "code",
      "metadata": {
        "id": "mH9pLDOZ56UU",
        "colab": {
          "base_uri": "https://localhost:8080/"
        },
        "outputId": "69f6009a-ef67-42f2-c855-ccf30547a259"
      },
      "source": [
        "for i in range(EPOCHS):\n",
        "    for xb, yb in train_dataloader:\n",
        "        output = learner(xb)\n",
        "        loss = loss_func(output, yb)\n",
        "        # backward pass:\n",
        "        loss.backward()\n",
        "        \n",
        "        # we've removed all the mess into opt: \n",
        "        opt.step() #replaces a.weight -= a.weight.grad * lr\n",
        "        opt.zero_grad()\n",
        "    print(loss)"
      ],
      "execution_count": 10,
      "outputs": [
        {
          "output_type": "stream",
          "name": "stdout",
          "text": [
            "tensor(0.0269, grad_fn=<NllLossBackward>)\n",
            "tensor(0.0085, grad_fn=<NllLossBackward>)\n",
            "tensor(0.0017, grad_fn=<NllLossBackward>)\n",
            "tensor(0.0003, grad_fn=<NllLossBackward>)\n",
            "tensor(0.0001, grad_fn=<NllLossBackward>)\n"
          ]
        }
      ]
    },
    {
      "cell_type": "code",
      "metadata": {
        "id": "Z1vvDrUV56UV",
        "colab": {
          "base_uri": "https://localhost:8080/"
        },
        "outputId": "9c3c5802-037d-41a2-8b07-45ea87dd6430"
      },
      "source": [
        "# careful, we asked for a 64 batch size, but the last batch is 32 \n",
        "xb.shape"
      ],
      "execution_count": 11,
      "outputs": [
        {
          "output_type": "execute_result",
          "data": {
            "text/plain": [
              "torch.Size([32, 784])"
            ]
          },
          "metadata": {},
          "execution_count": 11
        }
      ]
    },
    {
      "cell_type": "code",
      "metadata": {
        "id": "ekW2TH7Q56UW",
        "colab": {
          "base_uri": "https://localhost:8080/"
        },
        "outputId": "1409fbbf-7caa-4d56-d212-7b8800858e43"
      },
      "source": [
        "# 937 batches of 64, and a half batch of 64, hence 32 \n",
        "60000 / 64 "
      ],
      "execution_count": 12,
      "outputs": [
        {
          "output_type": "execute_result",
          "data": {
            "text/plain": [
              "937.5"
            ]
          },
          "metadata": {},
          "execution_count": 12
        }
      ]
    },
    {
      "cell_type": "code",
      "metadata": {
        "scrolled": true,
        "id": "enp6jZX756UW",
        "colab": {
          "base_uri": "https://localhost:8080/"
        },
        "outputId": "60840459-8613-439e-ac96-05c2160be05b"
      },
      "source": [
        "60000 % 64"
      ],
      "execution_count": 13,
      "outputs": [
        {
          "output_type": "execute_result",
          "data": {
            "text/plain": [
              "32"
            ]
          },
          "metadata": {},
          "execution_count": 13
        }
      ]
    },
    {
      "cell_type": "markdown",
      "metadata": {
        "id": "C2lWr_fS56UX"
      },
      "source": [
        "# Adding Validation"
      ]
    },
    {
      "cell_type": "code",
      "metadata": {
        "id": "sM9hlVl-56UX"
      },
      "source": [
        "train, valid = trainset[0:50000, :], trainset[50000:, :]\n",
        "y_train, y_valid = y_trainset[0:50000], y_trainset[50000:]"
      ],
      "execution_count": 14,
      "outputs": []
    },
    {
      "cell_type": "markdown",
      "metadata": {
        "id": "tHd-7YIW56UX"
      },
      "source": [
        "We'll now start using Pytorch's DataLoader because it also has a random sampler"
      ]
    },
    {
      "cell_type": "code",
      "metadata": {
        "id": "WEbY2vWh56UY"
      },
      "source": [
        "from torch.utils.data import DataLoader, SequentialSampler, RandomSampler"
      ],
      "execution_count": 15,
      "outputs": []
    },
    {
      "cell_type": "code",
      "metadata": {
        "id": "stwiK-nx56UY"
      },
      "source": [
        "train_dl = DataLoader(Dataset(train, y_train), batch_size=64, shuffle=True)\n",
        "valid_dl = DataLoader(Dataset(valid, y_valid), 64)"
      ],
      "execution_count": 16,
      "outputs": []
    },
    {
      "cell_type": "code",
      "metadata": {
        "id": "RH1HdAJY56UY",
        "colab": {
          "base_uri": "https://localhost:8080/"
        },
        "outputId": "e60a57da-7e54-48e1-b026-ca0a80f70016"
      },
      "source": [
        "for epoch in range(EPOCHS):\n",
        "    # learner.train() puts the model in train mode (it calculates gradients)\n",
        "    learner.train()\n",
        "    for xb, yb in train_dl:\n",
        "        output = learner(xb)\n",
        "        loss = loss_func(output, yb)\n",
        "        # backward pass:\n",
        "        loss.backward()\n",
        "        \n",
        "        # we've removed all the mess into opt: \n",
        "        opt.step() #replaces a.weight -= a.weight.grad * lr\n",
        "        opt.zero_grad()\n",
        "\n",
        "    # learner.eval() puts the model in eval mode (it calculates gradients)\n",
        "    learner.eval()\n",
        "    with torch.no_grad():\n",
        "        total_loss, total_acc = 0., 0.\n",
        "        for xb, yb in valid_dl:\n",
        "            pred = learner(xb)\n",
        "            total_loss += loss_func(pred, yb)\n",
        "            total_acc += accuracy(pred, yb)\n",
        "            \n",
        "        # we calculate above to have metrics during training, but note we are\n",
        "        # NOT DOING back propagation\n",
        "        n_entries = len(valid_dl)\n",
        "        print('epoch', epoch,\n",
        "              'loss:', (total_loss/n_entries).item(),\n",
        "              'accuracy:', (total_acc/n_entries).item()\n",
        "              )"
      ],
      "execution_count": 17,
      "outputs": [
        {
          "output_type": "stream",
          "name": "stdout",
          "text": [
            "epoch 0 loss: 0.036242078989744186 accuracy: 0.9890525341033936\n",
            "epoch 1 loss: 0.029556408524513245 accuracy: 0.9922372698783875\n",
            "epoch 2 loss: 0.02887069806456566 accuracy: 0.9908439517021179\n",
            "epoch 3 loss: 0.03517087176442146 accuracy: 0.9903463125228882\n",
            "epoch 4 loss: 0.033577993512153625 accuracy: 0.9901472926139832\n"
          ]
        }
      ]
    },
    {
      "cell_type": "markdown",
      "metadata": {
        "id": "TF2spbno56UZ"
      },
      "source": [
        "# Adding convolutions"
      ]
    },
    {
      "cell_type": "markdown",
      "metadata": {
        "id": "GJqBJU9M56UZ"
      },
      "source": [
        "Now adding convolutions is just a matter of changing the sequence of layers in nn.Sequential"
      ]
    },
    {
      "cell_type": "code",
      "metadata": {
        "id": "EzuxKk8o56UZ"
      },
      "source": [
        "# Use Jupyter Notebook shortcuts to access the doc and see how to use Conv2d\n",
        "# ??nn.Conv2d"
      ],
      "execution_count": 18,
      "outputs": []
    },
    {
      "cell_type": "code",
      "metadata": {
        "id": "q4Z19x4i56Ua",
        "colab": {
          "base_uri": "https://localhost:8080/"
        },
        "outputId": "89eb3f00-54a5-4421-95b4-009fa2736434"
      },
      "source": [
        "xb.shape"
      ],
      "execution_count": 19,
      "outputs": [
        {
          "output_type": "execute_result",
          "data": {
            "text/plain": [
              "torch.Size([16, 784])"
            ]
          },
          "metadata": {},
          "execution_count": 19
        }
      ]
    },
    {
      "cell_type": "code",
      "metadata": {
        "id": "R6zd-eJs56Ua",
        "colab": {
          "base_uri": "https://localhost:8080/"
        },
        "outputId": "bb5d790e-6eb6-46b0-aafb-83f461cb4a79"
      },
      "source": [
        "# We can basically replace the nn.Linear with this:\n",
        "my_layer = nn.Conv2d(in_channels=1, out_channels=9, kernel_size=3, padding=1)\n",
        "\n",
        "# PAY ATTENTION HERE\n",
        "# Except nn.Conv2d takes input of shape N * Channels * Height * Width\n",
        "# (as seen in the doc if you uncomment above)\n",
        "# and we had no channels so far (MNIST isn't RVB), so we add an extra channel\n",
        "my_layer(xb.reshape(16, 1, 28, 28)).shape"
      ],
      "execution_count": 20,
      "outputs": [
        {
          "output_type": "execute_result",
          "data": {
            "text/plain": [
              "torch.Size([16, 9, 28, 28])"
            ]
          },
          "metadata": {},
          "execution_count": 20
        }
      ]
    },
    {
      "cell_type": "code",
      "metadata": {
        "id": "6aEwlms456Ua"
      },
      "source": [
        "# We also need to flatten out the output of the successive convolutions\n",
        "# before we pass it to a nn.Linear()\n",
        "# we add a Lambda layer (pretty much like a lambda function) to do that\n",
        "\n",
        "\n",
        "class Lambda(nn.Module):\n",
        "    def __init__(self, func):\n",
        "        super().__init__()\n",
        "        self.func = func\n",
        "\n",
        "    def forward(self, x):\n",
        "        return self.func(x)\n",
        "\n",
        "\n",
        "def flatten(x):\n",
        "    return x.view(x.shape[0], -1)\n",
        "\n",
        "# we can also use that Lambda class to resize the data as in the above cell\n",
        "def mnist_resize(x): return x.view(-1, 1, 28, 28) "
      ],
      "execution_count": 21,
      "outputs": []
    },
    {
      "cell_type": "code",
      "metadata": {
        "id": "78j5M91k56Ub"
      },
      "source": [
        "EPOCHS = 6\n",
        "lr = 0.4\n",
        "bs = 64\n",
        "loss_func = F.cross_entropy\n",
        "\n",
        "# I created the network for you and we'll follow \n",
        "# the code together ;) \n",
        "learner = nn.Sequential(\n",
        "    Lambda(mnist_resize),  # we can do the reshape here\n",
        "    nn.Conv2d(in_channels=1, out_channels=8,\n",
        "              kernel_size=3, stride=1, padding=1),  # bs*8*28*28\n",
        "    nn.ReLU(),\n",
        "    nn.Conv2d(8, 16, 3, 2, 1),  # bs*16*14*14\n",
        "    nn.ReLU(),\n",
        "    nn.Conv2d(16, 32, 3, 2, 1),  # bs * 32 * 7 * 7\n",
        "    nn.ReLU(),\n",
        "    nn.Conv2d(32, 64, 3, 2, 1),  # bs * 64 * 4 * 4\n",
        "    nn.ReLU(),\n",
        "    nn.Conv2d(64, 64, 3, 2, 1),  # bs * 64 * 2 * 2\n",
        "    nn.AdaptiveAvgPool2d(1),\n",
        "    Lambda(flatten),\n",
        "    nn.Linear(64, 10)\n",
        ")\n",
        "\n",
        "opt = Optimizer(learner.parameters(), lr=lr)"
      ],
      "execution_count": 22,
      "outputs": []
    },
    {
      "cell_type": "code",
      "metadata": {
        "id": "ZzPO04cI56Ub",
        "colab": {
          "base_uri": "https://localhost:8080/"
        },
        "outputId": "3ca2905d-2924-444c-e818-a718e2f334e6"
      },
      "source": [
        "# A cool thing is that the train loop doesn't need to change\n",
        "for epoch in range(EPOCHS):\n",
        "    # learner.train() puts the model in train mode (it calculates gradients)\n",
        "    learner.train()\n",
        "    \n",
        "    for xb, yb in train_dl:\n",
        "        # again, practice \n",
        "        output = learner(xb)\n",
        "        loss = loss_func(output, yb)\n",
        "        # backward pass:\n",
        "        loss.backward()\n",
        "        \n",
        "        # we've removed all the mess into opt: \n",
        "        opt.step() #replaces a.weight -= a.weight.grad * lr\n",
        "        opt.zero_grad()\n",
        "\n",
        "    # put your learner in eval mode \n",
        "    \n",
        "    with torch.no_grad():\n",
        "        total_loss, total_acc = 0., 0.\n",
        "        for xb, yb in valid_dl:\n",
        "            pred = learner(xb)\n",
        "            total_loss += loss_func(pred, yb)\n",
        "            total_acc += accuracy(pred, yb)\n",
        "        n_entries = len(valid_dl)\n",
        "        print('epoch', epoch,\n",
        "              'loss:', (total_loss/n_entries).item(),\n",
        "              'accuracy:', (total_acc/n_entries).item()\n",
        "              )"
      ],
      "execution_count": 23,
      "outputs": [
        {
          "output_type": "stream",
          "name": "stdout",
          "text": [
            "epoch 0 loss: 0.11545221507549286 accuracy: 0.9674562215805054\n",
            "epoch 1 loss: 0.08085844665765762 accuracy: 0.9774084687232971\n",
            "epoch 2 loss: 0.058038607239723206 accuracy: 0.9831807613372803\n",
            "epoch 3 loss: 0.06289549171924591 accuracy: 0.9802945852279663\n",
            "epoch 4 loss: 0.07366625219583511 accuracy: 0.9783041477203369\n",
            "epoch 5 loss: 0.05670349299907684 accuracy: 0.9851711988449097\n"
          ]
        }
      ]
    },
    {
      "cell_type": "markdown",
      "metadata": {
        "id": "in_J3ISq56Ub"
      },
      "source": [
        "So, we added convolutions, but two problems arose:\n",
        "\n",
        "* the training isn't very smooth. We'll need to add some regularization\n",
        "* the training is way slower than before. We'll need to start using the GPU"
      ]
    },
    {
      "cell_type": "markdown",
      "metadata": {
        "id": "wif35kDq56Uc"
      },
      "source": [
        "### Sanity check"
      ]
    },
    {
      "cell_type": "code",
      "metadata": {
        "id": "R4KV77VJ56Uc"
      },
      "source": [
        "import matplotlib.pyplot as plt"
      ],
      "execution_count": 24,
      "outputs": []
    },
    {
      "cell_type": "code",
      "metadata": {
        "id": "hHb-af5U56Uc",
        "colab": {
          "base_uri": "https://localhost:8080/",
          "height": 283
        },
        "outputId": "96cc7271-c167-480d-c09a-a166c0f719da"
      },
      "source": [
        "seven = testset.data[17].reshape(28, 28)\n",
        "cut_seven = seven[:, 5:22]\n",
        "shifted_seven = torch.zeros(28, 28)\n",
        "shifted_seven[:, :] = -0.4241\n",
        "shifted_seven[:, 0:17] = cut_seven\n",
        "plt.imshow(shifted_seven.numpy())"
      ],
      "execution_count": 25,
      "outputs": [
        {
          "output_type": "execute_result",
          "data": {
            "text/plain": [
              "<matplotlib.image.AxesImage at 0x7fa131a8b3d0>"
            ]
          },
          "metadata": {},
          "execution_count": 25
        },
        {
          "output_type": "display_data",
          "data": {
            "image/png": "[encoded data removed]",
            "text/plain": [
              "<Figure size 432x288 with 1 Axes>"
            ]
          },
          "metadata": {
            "needs_background": "light"
          }
        }
      ]
    },
    {
      "cell_type": "code",
      "metadata": {
        "id": "eCorPK8R56Ud",
        "colab": {
          "base_uri": "https://localhost:8080/"
        },
        "outputId": "08c2f1da-64c0-4004-dfc0-b5473fb3b2f2"
      },
      "source": [
        "learner(seven).argmax(dim=-1), learner(shifted_seven).argmax(dim=-1)"
      ],
      "execution_count": 26,
      "outputs": [
        {
          "output_type": "execute_result",
          "data": {
            "text/plain": [
              "(tensor([7]), tensor([7]))"
            ]
          },
          "metadata": {},
          "execution_count": 26
        }
      ]
    },
    {
      "cell_type": "markdown",
      "metadata": {
        "id": "G8d7RTak56Ud"
      },
      "source": [
        "# In practice"
      ]
    },
    {
      "cell_type": "code",
      "metadata": {
        "id": "Sq9DZPvm56Ud"
      },
      "source": [
        "from torchvision.models.resnet import resnet18"
      ],
      "execution_count": 27,
      "outputs": []
    },
    {
      "cell_type": "code",
      "metadata": {
        "id": "KicEvvxU56Ud",
        "colab": {
          "base_uri": "https://localhost:8080/"
        },
        "outputId": "2f55fbc9-8109-4598-b9b7-38635df75836"
      },
      "source": [
        "resnet18()"
      ],
      "execution_count": 28,
      "outputs": [
        {
          "output_type": "execute_result",
          "data": {
            "text/plain": [
              "ResNet(\n",
              "  (conv1): Conv2d(3, 64, kernel_size=(7, 7), stride=(2, 2), padding=(3, 3), bias=False)\n",
              "  (bn1): BatchNorm2d(64, eps=1e-05, momentum=0.1, affine=True, track_running_stats=True)\n",
              "  (relu): ReLU(inplace=True)\n",
              "  (maxpool): MaxPool2d(kernel_size=3, stride=2, padding=1, dilation=1, ceil_mode=False)\n",
              "  (layer1): Sequential(\n",
              "    (0): BasicBlock(\n",
              "      (conv1): Conv2d(64, 64, kernel_size=(3, 3), stride=(1, 1), padding=(1, 1), bias=False)\n",
              "      (bn1): BatchNorm2d(64, eps=1e-05, momentum=0.1, affine=True, track_running_stats=True)\n",
              "      (relu): ReLU(inplace=True)\n",
              "      (conv2): Conv2d(64, 64, kernel_size=(3, 3), stride=(1, 1), padding=(1, 1), bias=False)\n",
              "      (bn2): BatchNorm2d(64, eps=1e-05, momentum=0.1, affine=True, track_running_stats=True)\n",
              "    )\n",
              "    (1): BasicBlock(\n",
              "      (conv1): Conv2d(64, 64, kernel_size=(3, 3), stride=(1, 1), padding=(1, 1), bias=False)\n",
              "      (bn1): BatchNorm2d(64, eps=1e-05, momentum=0.1, affine=True, track_running_stats=True)\n",
              "      (relu): ReLU(inplace=True)\n",
              "      (conv2): Conv2d(64, 64, kernel_size=(3, 3), stride=(1, 1), padding=(1, 1), bias=False)\n",
              "      (bn2): BatchNorm2d(64, eps=1e-05, momentum=0.1, affine=True, track_running_stats=True)\n",
              "    )\n",
              "  )\n",
              "  (layer2): Sequential(\n",
              "    (0): BasicBlock(\n",
              "      (conv1): Conv2d(64, 128, kernel_size=(3, 3), stride=(2, 2), padding=(1, 1), bias=False)\n",
              "      (bn1): BatchNorm2d(128, eps=1e-05, momentum=0.1, affine=True, track_running_stats=True)\n",
              "      (relu): ReLU(inplace=True)\n",
              "      (conv2): Conv2d(128, 128, kernel_size=(3, 3), stride=(1, 1), padding=(1, 1), bias=False)\n",
              "      (bn2): BatchNorm2d(128, eps=1e-05, momentum=0.1, affine=True, track_running_stats=True)\n",
              "      (downsample): Sequential(\n",
              "        (0): Conv2d(64, 128, kernel_size=(1, 1), stride=(2, 2), bias=False)\n",
              "        (1): BatchNorm2d(128, eps=1e-05, momentum=0.1, affine=True, track_running_stats=True)\n",
              "      )\n",
              "    )\n",
              "    (1): BasicBlock(\n",
              "      (conv1): Conv2d(128, 128, kernel_size=(3, 3), stride=(1, 1), padding=(1, 1), bias=False)\n",
              "      (bn1): BatchNorm2d(128, eps=1e-05, momentum=0.1, affine=True, track_running_stats=True)\n",
              "      (relu): ReLU(inplace=True)\n",
              "      (conv2): Conv2d(128, 128, kernel_size=(3, 3), stride=(1, 1), padding=(1, 1), bias=False)\n",
              "      (bn2): BatchNorm2d(128, eps=1e-05, momentum=0.1, affine=True, track_running_stats=True)\n",
              "    )\n",
              "  )\n",
              "  (layer3): Sequential(\n",
              "    (0): BasicBlock(\n",
              "      (conv1): Conv2d(128, 256, kernel_size=(3, 3), stride=(2, 2), padding=(1, 1), bias=False)\n",
              "      (bn1): BatchNorm2d(256, eps=1e-05, momentum=0.1, affine=True, track_running_stats=True)\n",
              "      (relu): ReLU(inplace=True)\n",
              "      (conv2): Conv2d(256, 256, kernel_size=(3, 3), stride=(1, 1), padding=(1, 1), bias=False)\n",
              "      (bn2): BatchNorm2d(256, eps=1e-05, momentum=0.1, affine=True, track_running_stats=True)\n",
              "      (downsample): Sequential(\n",
              "        (0): Conv2d(128, 256, kernel_size=(1, 1), stride=(2, 2), bias=False)\n",
              "        (1): BatchNorm2d(256, eps=1e-05, momentum=0.1, affine=True, track_running_stats=True)\n",
              "      )\n",
              "    )\n",
              "    (1): BasicBlock(\n",
              "      (conv1): Conv2d(256, 256, kernel_size=(3, 3), stride=(1, 1), padding=(1, 1), bias=False)\n",
              "      (bn1): BatchNorm2d(256, eps=1e-05, momentum=0.1, affine=True, track_running_stats=True)\n",
              "      (relu): ReLU(inplace=True)\n",
              "      (conv2): Conv2d(256, 256, kernel_size=(3, 3), stride=(1, 1), padding=(1, 1), bias=False)\n",
              "      (bn2): BatchNorm2d(256, eps=1e-05, momentum=0.1, affine=True, track_running_stats=True)\n",
              "    )\n",
              "  )\n",
              "  (layer4): Sequential(\n",
              "    (0): BasicBlock(\n",
              "      (conv1): Conv2d(256, 512, kernel_size=(3, 3), stride=(2, 2), padding=(1, 1), bias=False)\n",
              "      (bn1): BatchNorm2d(512, eps=1e-05, momentum=0.1, affine=True, track_running_stats=True)\n",
              "      (relu): ReLU(inplace=True)\n",
              "      (conv2): Conv2d(512, 512, kernel_size=(3, 3), stride=(1, 1), padding=(1, 1), bias=False)\n",
              "      (bn2): BatchNorm2d(512, eps=1e-05, momentum=0.1, affine=True, track_running_stats=True)\n",
              "      (downsample): Sequential(\n",
              "        (0): Conv2d(256, 512, kernel_size=(1, 1), stride=(2, 2), bias=False)\n",
              "        (1): BatchNorm2d(512, eps=1e-05, momentum=0.1, affine=True, track_running_stats=True)\n",
              "      )\n",
              "    )\n",
              "    (1): BasicBlock(\n",
              "      (conv1): Conv2d(512, 512, kernel_size=(3, 3), stride=(1, 1), padding=(1, 1), bias=False)\n",
              "      (bn1): BatchNorm2d(512, eps=1e-05, momentum=0.1, affine=True, track_running_stats=True)\n",
              "      (relu): ReLU(inplace=True)\n",
              "      (conv2): Conv2d(512, 512, kernel_size=(3, 3), stride=(1, 1), padding=(1, 1), bias=False)\n",
              "      (bn2): BatchNorm2d(512, eps=1e-05, momentum=0.1, affine=True, track_running_stats=True)\n",
              "    )\n",
              "  )\n",
              "  (avgpool): AdaptiveAvgPool2d(output_size=(1, 1))\n",
              "  (fc): Linear(in_features=512, out_features=1000, bias=True)\n",
              ")"
            ]
          },
          "metadata": {},
          "execution_count": 28
        }
      ]
    },
    {
      "cell_type": "markdown",
      "metadata": {
        "id": "LQr_LySC56Ue"
      },
      "source": [
        "# Next: FastAI"
      ]
    },
    {
      "cell_type": "code",
      "metadata": {
        "id": "vSkHwJPk56Ue"
      },
      "source": [
        ""
      ],
      "execution_count": 28,
      "outputs": []
    }
  ]
}